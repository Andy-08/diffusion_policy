{
 "cells": [
  {
   "cell_type": "code",
   "execution_count": 3,
   "metadata": {
    "vscode": {
     "languageId": "plaintext"
    }
   },
   "outputs": [
    {
     "name": "stdout",
     "output_type": "stream",
     "text": [
      "pygame 2.1.2 (SDL 2.0.16, Python 3.9.18)\n",
      "Hello from the pygame community. https://www.pygame.org/contribute.html\n"
     ]
    }
   ],
   "source": [
    "#@markdown ### **Imports**\n",
    "# diffusion policy import\n",
    "from typing import Tuple, Sequence, Dict, Union, Optional, Callable\n",
    "import numpy as np\n",
    "import math\n",
    "import torch\n",
    "import torch.nn as nn\n",
    "import torchvision\n",
    "import collections\n",
    "import zarr\n",
    "from diffusers.schedulers.scheduling_ddpm import DDPMScheduler\n",
    "from diffusers.training_utils import EMAModel\n",
    "from diffusers.optimization import get_scheduler\n",
    "from tqdm.auto import tqdm\n",
    "from tqdm import tqdm_notebook\n",
    "\n",
    "# env import\n",
    "import gym\n",
    "from gym import spaces\n",
    "import pygame\n",
    "import pymunk\n",
    "import pymunk.pygame_util\n",
    "from pymunk.space_debug_draw_options import SpaceDebugColor\n",
    "from pymunk.vec2d import Vec2d\n",
    "import shapely.geometry as sg\n",
    "import cv2\n",
    "import skimage.transform as st\n",
    "from skvideo.io import vwrite\n",
    "from IPython.display import Video\n",
    "import gdown\n",
    "import os"
   ]
  },
  {
   "cell_type": "markdown",
   "metadata": {},
   "source": [
    "# data\n",
    "\n",
    "Fisrtly, we load the data"
   ]
  },
  {
   "cell_type": "code",
   "execution_count": 8,
   "metadata": {
    "vscode": {
     "languageId": "plaintext"
    }
   },
   "outputs": [],
   "source": [
    "dataset_path = \"pusht_cchi_v7_replay.zarr.zip\"\n",
    "dataset_root = zarr.open(dataset_path, 'r')\n",
    "train_image_data = dataset_root['data']['img'][:]"
   ]
  },
  {
   "cell_type": "code",
   "execution_count": 14,
   "metadata": {},
   "outputs": [
    {
     "name": "stdout",
     "output_type": "stream",
     "text": [
      "First  images:\n",
      "(25650, 96, 96, 3)\n",
      "[[[[255. 255. 255.]\n",
      "   [248. 248. 248.]\n",
      "   [248. 248. 248.]\n",
      "   ...\n",
      "   [248. 248. 248.]\n",
      "   [248. 248. 248.]\n",
      "   [255. 255. 255.]]\n",
      "\n",
      "  [[248. 248. 248.]\n",
      "   [222. 222. 222.]\n",
      "   [233. 233. 233.]\n",
      "   ...\n",
      "   [233. 233. 233.]\n",
      "   [222. 222. 222.]\n",
      "   [248. 248. 248.]]\n",
      "\n",
      "  [[247. 247. 247.]\n",
      "   [233. 233. 233.]\n",
      "   [255. 255. 255.]\n",
      "   ...\n",
      "   [255. 255. 255.]\n",
      "   [233. 233. 233.]\n",
      "   [247. 247. 247.]]\n",
      "\n",
      "  ...\n",
      "\n",
      "  [[247. 247. 247.]\n",
      "   [233. 233. 233.]\n",
      "   [255. 255. 255.]\n",
      "   ...\n",
      "   [255. 255. 255.]\n",
      "   [233. 233. 233.]\n",
      "   [247. 247. 247.]]\n",
      "\n",
      "  [[248. 248. 248.]\n",
      "   [222. 222. 222.]\n",
      "   [233. 233. 233.]\n",
      "   ...\n",
      "   [233. 233. 233.]\n",
      "   [222. 222. 222.]\n",
      "   [248. 248. 248.]]\n",
      "\n",
      "  [[255. 255. 255.]\n",
      "   [248. 248. 248.]\n",
      "   [248. 248. 248.]\n",
      "   ...\n",
      "   [248. 248. 248.]\n",
      "   [248. 248. 248.]\n",
      "   [255. 255. 255.]]]]\n"
     ]
    }
   ],
   "source": [
    "print(\"First  images:\")\n",
    "print(train_image_data.shape)\n",
    "print(train_image_data[:1])\n",
    "image = train_image_data[:1]"
   ]
  },
  {
   "cell_type": "code",
   "execution_count": 15,
   "metadata": {},
   "outputs": [
    {
     "data": {
      "image/png": "[encoded data removed]",
      "text/plain": [
       "<Figure size 640x480 with 1 Axes>"
      ]
     },
     "metadata": {},
     "output_type": "display_data"
    }
   ],
   "source": [
    "import matplotlib.pyplot as plt\n",
    "image /= 255.0\n",
    "plt.imshow(image[0])\n",
    "plt.title('First Image')\n",
    "plt.axis('off')  # 不显示坐标轴\n",
    "plt.show()"
   ]
  },
  {
   "cell_type": "code",
   "execution_count": null,
   "metadata": {},
   "outputs": [],
   "source": []
  }
 ],
 "metadata": {
  "kernelspec": {
   "display_name": "Python 3 (ipykernel)",
   "language": "python",
   "name": "python3"
  },
  "language_info": {
   "codemirror_mode": {
    "name": "ipython",
    "version": 3
   },
   "file_extension": ".py",
   "mimetype": "text/x-python",
   "name": "python",
   "nbconvert_exporter": "python",
   "pygments_lexer": "ipython3",
   "version": "3.9.18"
  }
 },
 "nbformat": 4,
 "nbformat_minor": 4
}
